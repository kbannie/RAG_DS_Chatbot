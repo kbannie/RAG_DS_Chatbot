{
 "cells": [
  {
   "cell_type": "markdown",
   "metadata": {},
   "source": [
    "### 1. 데이터 생성하기\n",
    "(1) ./datasets 아래에 .hwp 파일을 모두 load하기\n",
    "\n",
    "(2) text_splitter로 분할하기\n",
    "\n",
    "(3) all_docs에 모든 chunk들 append하기\n",
    "\n",
    "(4) Pineone Vector database에 업로드하기"
   ]
  },
  {
   "cell_type": "code",
   "execution_count": 10,
   "metadata": {},
   "outputs": [
    {
     "name": "stdout",
     "output_type": "stream",
     "text": [
      "The number of Splitted Chunks: 3065\n"
     ]
    }
   ],
   "source": [
    "from langchain_text_splitters import RecursiveCharacterTextSplitter\n",
    "from langchain_teddynote.document_loaders.hwp import HWPLoader\n",
    "import os\n",
    "\n",
    "document_list = []\n",
    "\n",
    "# text splitter 설정\n",
    "text_splitter = RecursiveCharacterTextSplitter(\n",
    "    chunk_size=512,\n",
    "    chunk_overlap=100,\n",
    ")\n",
    "\n",
    "# datasets 폴더를 시작점으로 하위 폴더까지 재귀적으로 순회\n",
    "for root, dirs, files in os.walk(\"./datasets\"):\n",
    "    for file in files:\n",
    "        if file.endswith(\".hwp\"):\n",
    "            file_path = os.path.join(root, file)\n",
    "            loader = HWPLoader(file_path)\n",
    "            # 1) 문서 로드\n",
    "            docs = loader.load()\n",
    "            # 2) 텍스트 스플리터로 분할\n",
    "            split_docs = text_splitter.split_documents(docs)\n",
    "            document_list.extend(split_docs)\n",
    "\n",
    "print(f\"The number of Splitted Chunks: {len(document_list)}\")"
   ]
  },
  {
   "cell_type": "code",
   "execution_count": 8,
   "metadata": {},
   "outputs": [],
   "source": [
    "from dotenv import load_dotenv\n",
    "from langchain_openai import OpenAIEmbeddings\n",
    "\n",
    "load_dotenv()\n",
    "\n",
    "embedding = OpenAIEmbeddings(model='text-embedding-3-large')"
   ]
  },
  {
   "cell_type": "code",
   "execution_count": 22,
   "metadata": {},
   "outputs": [],
   "source": [
    "#Pinecone\n",
    "from pinecone import Pinecone\n",
    "from langchain_pinecone import PineconeVectorStore\n",
    "\n",
    "index_name = 'ds-chatbot'\n",
    "pinecone_api_key = os.environ.get(\"PINECONE_API_KEY\")\n",
    "pc = Pinecone(api_key=pinecone_api_key)\n",
    "\n",
    "database = PineconeVectorStore.from_documents(document_list, embedding, index_name=index_name)"
   ]
  },
  {
   "cell_type": "code",
   "execution_count": 11,
   "metadata": {},
   "outputs": [],
   "source": [
    "#Chroma\n",
    "# from langchain_chroma import Chroma\n",
    "\n",
    "# database=Chroma.from_documents(documents=document_list, embedding=embedding, collection_name='chroma-tax', persist_directory=\"./chroma\")\n",
    "\n",
    "#database=Chroma(collection_name='chroma-tax', persist_directory=\"./chroma\", embedding_function=embedding) #이미 만들어 놓은 데베 사용"
   ]
  },
  {
   "cell_type": "markdown",
   "metadata": {},
   "source": [
    "### 2. 답변 생성을 위한 Retrieval 및 Prompt 활용하기\n",
    "(1) RetrievalQA에 전달하기 위해 retriever 생성\n",
    "\n",
    "(2) LangChain에서 제공하는 rlm/rag-prompt 사용"
   ]
  },
  {
   "cell_type": "code",
   "execution_count": 4,
   "metadata": {},
   "outputs": [
    {
     "data": {
      "text/plain": [
       "[Document(id='dedc4edc-9982-46b0-94bc-4035f496f15a', metadata={'source': './datasets/2편 학칙/1. 대학원학칙시행세칙(20230710)_일부개정.hwp'}, page_content='구분(외국어) | 과정     | 시험 종류                  | 합격 기준(등급/점수)                | 비고                  ||----------|--------|----------------------|---------------------------|---------------------|| 영어      | 석·박사  | PBT(시험지형)            | 500점 이상                  | 일반대학원 공통사항     ||          |        | CBT(컴퓨터형)            | 173점 이상                  |                     ||          |        | IBT(인터넷형)            | 61점 이상                   |                     ||          |        | TOEIC                  | 700점 이상                  |                     ||          |        | TEPS(서울대형)           | 600점 이상                  |'),\n",
       " Document(id='769b609e-e98e-4b79-bdea-88e905a58192', metadata={'source': './datasets/2편 학칙/1. 대학원학칙시행세칙(20230710)_일부개정.hwp'}, page_content='||          |        | TEPS(서울대형)           | 600점 이상                  |                     ||          |        | New TEPS               | 326점 이상                  |                     || 일본어     | 석·박사  | JLPT                   | 2급 이상                    |                     ||          |        | JPT                    | 650점 이상                  |                     || 중국어     | 석·박사  | HSK                    | 215점(5급) 이상              |                     || 불어      | 석·박사  | DELF                   | 2단계 70~300: Note I sehr gut<br>240~295: Note II gut<br>210~239: Note III befriedigend<br>180~195: Note IV ausreichend | 일반대학원'),\n",
       " Document(id='f3ef61c0-e76b-4fe5-bf0f-0af61e024cf2', metadata={'source': './datasets/2편 학칙/1. 대학원학칙시행세칙(20230710)_일부개정.hwp'}, page_content='전공과목 추가학점 취득 가능 ||              |           | 부동산경영전공       | 27학점       | 1. 전공과목 24학점 이상<br>2. 논문 3학점 포함                 | - 비논문자는 논문 대신 전공과목 추가학점 취득 가능 ||              |           | 산업안전및재료공정전공 | 27학점       | 1. 전공과목 24학점 이상<br>2. 논문 3학점 포함                 | - 비논문자는 논문 대신 전공과목 추가학점 취득 가능 || 공통사항        | -         | -               | -          | 보충과목 12학점 이내                                           | 학부전공 변경 입학자                          |[별표 2]  각 대학원별 외국어시험 면제 외부공인 어학능력시험 인정 기준<개정 2020.7.1.>  (※ 특수대학원은 영어만 해당)(2008.3.1., 2011.12.6., 2020.7.1)| 구분(외국어) | 과정     | 시험 종류                  | 합격 기준(등급/점수)                | 비고'),\n",
       " Document(id='74bbbf3c-f0ea-4199-9bd4-414491945007', metadata={'source': './datasets/3편 학사행정/4장 교학행정/특수대학원 외국인특별과정운영규정(20220112)_일부개정.hwp'}, page_content='한국어사용과정: 모집 단위를 별도로 설정하고 졸업을 위해 이수해야 하는 학점의 50퍼센트 이상을 한국어로 진행하는 과정<신설 2022.1.12.>제3조(입학정원) 외국인학생은 학칙 제4조제2항에 의거 정원이 따로 있는 것으로 본다.제4조(지원자격) ① 제3조에 따라 정원외로 선발하는 특별과정 중 영어사용과정에 지원할 수 있는 자는 다음 각 호와 같다.1. 국내․외 4년제 정규대학에서 학사학위를 취득한 자 또는 취득 예정인 자2. 법령에 의거 위 호와 동등 이상의 자격이 있는 자<개정 2022.1.12.>3. 제1호 및 제2호 외에 추가 자격 요건으로 TOEFL 530(CBT 197, iBT 71), IELTS 5.5, CEFR B2,TEPS 600점 (NEW TEPS 326점) 또는 그에 상응하는 점수의 국가공인민간영어능력평가시험 소지자. 단, 영어를 모국어 또는 법적 공용어로 사용하는 국가의 국적을 소지한 자 중 현지 대학 학부 졸업증명서 및 성적증명서를 제출한 자는 국가공인민간영어능력평가시험 대체 인정 가능② 제3조에 따라 정원외로 선발하는 특별과정 중 이중언어과정에 지원할 수 있는 자는 다음 각 호와 같다.1. 국내․외 4년제 정규대학에서 학사학위를 취득한 자 또는 취득 예정인 자2. 법령에 의거 위 호와 동등 이상의 자격이 있는 자<개정')]"
      ]
     },
     "execution_count": 4,
     "metadata": {},
     "output_type": "execute_result"
    }
   ],
   "source": [
    "query = '대학원 영어 면제 인정 기준은?'\n",
    "retriever = database.as_retriever(search_kwargs={'k': 4})\n",
    "retriever.invoke(query)"
   ]
  },
  {
   "cell_type": "code",
   "execution_count": 5,
   "metadata": {},
   "outputs": [],
   "source": [
    "from langchain import hub\n",
    "from langchain_openai import ChatOpenAI\n",
    "\n",
    "prompt = hub.pull(\"rlm/rag-prompt\")\n",
    "llm = ChatOpenAI(model='gpt-4o')"
   ]
  },
  {
   "cell_type": "markdown",
   "metadata": {},
   "source": [
    "### 3. 답변 생성하기\n",
    "(1) RetrievalQA를 통해 LLM에 전달"
   ]
  },
  {
   "cell_type": "code",
   "execution_count": 6,
   "metadata": {},
   "outputs": [
    {
     "data": {
      "text/plain": [
       "{'query': '대학원 영어 면제 인정 기준은?',\n",
       " 'result': '대학원 영어 면제 인정 기준은 TOEFL PBT 500점 이상, CBT 173점 이상, IBT 61점 이상, TOEIC 700점 이상, TEPS 600점 이상 또는 New TEPS 326점 이상입니다.'}"
      ]
     },
     "execution_count": 6,
     "metadata": {},
     "output_type": "execute_result"
    }
   ],
   "source": [
    "from langchain.chains import RetrievalQA\n",
    "\n",
    "qa_chain = RetrievalQA.from_chain_type(\n",
    "    llm, \n",
    "    retriever=retriever,\n",
    "    chain_type_kwargs={\"prompt\": prompt}\n",
    ")\n",
    "\n",
    "ai_message = qa_chain.invoke({\"query\": query})\n",
    "\n",
    "ai_message"
   ]
  }
 ],
 "metadata": {
  "kernelspec": {
   "display_name": "Python 3",
   "language": "python",
   "name": "python3"
  },
  "language_info": {
   "codemirror_mode": {
    "name": "ipython",
    "version": 3
   },
   "file_extension": ".py",
   "mimetype": "text/x-python",
   "name": "python",
   "nbconvert_exporter": "python",
   "pygments_lexer": "ipython3",
   "version": "3.10.16"
  }
 },
 "nbformat": 4,
 "nbformat_minor": 2
}

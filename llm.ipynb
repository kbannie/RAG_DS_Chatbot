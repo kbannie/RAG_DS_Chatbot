{
 "cells": [
  {
   "cell_type": "markdown",
   "metadata": {},
   "source": [
    "### 1. 데이터 생성하기\n",
    "(1) ./datasets 아래에 .hwp 파일을 모두 load하기\n",
    "\n",
    "(2) text_splitter로 분할하기\n",
    "\n",
    "(3) all_docs에 모든 chunk들 append하기\n",
    "\n",
    "(4) Pineone Vector database에 업로드하기"
   ]
  },
  {
   "cell_type": "code",
   "execution_count": 1,
   "metadata": {},
   "outputs": [
    {
     "name": "stdout",
     "output_type": "stream",
     "text": [
      "The number of Splitted Chunks: 3079\n"
     ]
    }
   ],
   "source": [
    "from langchain_text_splitters import RecursiveCharacterTextSplitter\n",
    "from langchain_teddynote.document_loaders.hwp import HWPLoader\n",
    "import os\n",
    "\n",
    "document_list = []\n",
    "\n",
    "# text splitter 설정\n",
    "text_splitter = RecursiveCharacterTextSplitter(\n",
    "    chunk_size=512,\n",
    "    chunk_overlap=100,\n",
    ")\n",
    "\n",
    "# datasets 폴더를 시작점으로 하위 폴더까지 재귀적으로 순회\n",
    "for root, dirs, files in os.walk(\"./datasets\"):\n",
    "    for file in files:\n",
    "        if file.endswith(\".hwp\"):\n",
    "            file_path = os.path.join(root, file)\n",
    "            loader = HWPLoader(file_path)\n",
    "            # 1) 문서 로드\n",
    "            docs = loader.load()\n",
    "            # 2) 텍스트 스플리터로 분할\n",
    "            split_docs = text_splitter.split_documents(docs)\n",
    "            document_list.extend(split_docs)\n",
    "\n",
    "print(f\"The number of Splitted Chunks: {len(document_list)}\")"
   ]
  },
  {
   "cell_type": "code",
   "execution_count": 2,
   "metadata": {},
   "outputs": [],
   "source": [
    "from dotenv import load_dotenv\n",
    "from langchain_openai import OpenAIEmbeddings\n",
    "\n",
    "load_dotenv()\n",
    "\n",
    "embedding = OpenAIEmbeddings(model='text-embedding-3-large')"
   ]
  },
  {
   "cell_type": "code",
   "execution_count": 3,
   "metadata": {},
   "outputs": [],
   "source": [
    "#Pinecone\n",
    "from pinecone import Pinecone\n",
    "from langchain_pinecone import PineconeVectorStore\n",
    "\n",
    "index_name = 'ds-markdown'\n",
    "pinecone_api_key = os.environ.get(\"PINECONE_API_KEY\")\n",
    "pc = Pinecone(api_key=pinecone_api_key)\n",
    "\n",
    "database = PineconeVectorStore.from_documents(document_list, embedding, index_name=index_name)"
   ]
  },
  {
   "cell_type": "code",
   "execution_count": 11,
   "metadata": {},
   "outputs": [],
   "source": [
    "#Chroma\n",
    "# from langchain_chroma import Chroma\n",
    "\n",
    "# database=Chroma.from_documents(documents=document_list, embedding=embedding, collection_name='chroma-tax', persist_directory=\"./chroma\")\n",
    "\n",
    "#database=Chroma(collection_name='chroma-tax', persist_directory=\"./chroma\", embedding_function=embedding) #이미 만들어 놓은 데베 사용"
   ]
  },
  {
   "cell_type": "markdown",
   "metadata": {},
   "source": [
    "### 2. 답변 생성을 위한 Retrieval 및 Prompt 활용하기\n",
    "(1) RetrievalQA에 전달하기 위해 retriever 생성\n",
    "\n",
    "(2) LangChain에서 제공하는 rlm/rag-prompt 사용"
   ]
  },
  {
   "cell_type": "code",
   "execution_count": 4,
   "metadata": {},
   "outputs": [
    {
     "data": {
      "text/plain": [
       "[Document(id='3c0847d1-fd27-492d-86d1-505c397ff643', metadata={'source': './datasets/3편 학사행정/4장 교학행정/장학금규정시행세칙(20241113)_일부개정.hwp'}, page_content='성적이 일정기준 이상인 자로 단과대학별 모집인원의 상위 5% 이내인 자                                                                                                       | ⋅ 4년간(약학대학 6년) 수업료 전액면제<br>⋅ 학기 중 도서구입비 매월 30만원 지급<br>⋅ 해외자매대학에 교환유학생으로 1회 파견 또는 해외 어학 연수 1회 지원 (수업료+기숙사비+항공료 총 400만원 이내)<br>⋅ 지방학생의 경우 기숙사 우선선발 및 기숙사비 면제(1년)<br>⋅ 글로벌교육원 지정프로그램 무료수강<br>⋅ 대학일자리본부에서 운영하는 프로그램 우선 선발 || 남해장학금              | 각 단과대학별 수석합격자'),\n",
       " Document(id='aebed516-f02b-4f7e-ba90-9d9a4bbeca89', metadata={'source': './datasets/3편 학사행정/4장 교학행정/장학금규정시행세칙(20241113)_일부개정.hwp'}, page_content='|※ 기타 사항  가. 정시모집 장학생은 “가”군과 “나”군의 합격자를 통합하여 선발함. 단, 수시모집 미충원 이월에 따른 정시모집 정원외 전형은 제외<개정 2017.10.11., 2018.10.10>  나. 차미리사장학생의 수능 성적 기준<개정 2017.12.13., 2019.11.6., 2021.11.3..>      ① 글로벌융합대학, Art & Design대학 : 국어 1등급, 영어 1등급  ② 과학기술대학, 미래인재대학 : 수학 1등급, 영어 1등급  ③ 약학대학 : 국어 1등급, 수학 1등급, 영어 1등급<개정 2016.5.11., 2019.11.6., 2021.11.3., 2023.6.7.>  다. 장학금 중 2가지 이상의 기준에 해당되는 경우에는 상위 1개 장학금만 지급함  라. 장학금 중 덕성글로벌리더, 덕성인재육성, 차미리사, 남해, 덕성누리장학생으로 입학한 자가 직전학기 성적 3.50 미만일 경우에는'),\n",
       " Document(id='b89bead0-eb95-47cd-a45a-678571b495bb', metadata={'source': './datasets/3편 학사행정/4장 교학행정/캐치업 프로그램 운영내규(20230206)_일부개정.hwp'}, page_content='정하는 성적향상 장학금을 지급할 수 있다.<개정 2023.2.6.>이전학기 평점평균해당학기 평점평균0.0  ~ 1.75 미만2.0 이상1.75 ~ 2.0 이하3.0 이상② 전항의 장학금은 교무과에서 대상 학생의 이수내역과 학점을 확인하여 학생지원과에 신청한다.제10조(기타) 이 내규에서 정한 사항 이외에 필요한 사항은 교무처장이 따로 정한다.부    칙<2021. 2. 24.>1. (시행일) 이 내규는 2021년 3월 1일부터 시행한다.부    칙<2023. 2. 6.>1. (시행일) 이 개정 내규는 2023년 2월 6일부터 시행한다.'),\n",
       " Document(id='1a933a29-a07e-49ff-8ac2-80a26067455a', metadata={'source': './datasets/3편 학사행정/4장 교학행정/장학금규정시행세칙(20241113)_일부개정.hwp'}, page_content='경우에는 상위 1개 장학금만 지급함  라. 장학금 중 덕성글로벌리더, 덕성인재육성, 차미리사, 남해, 덕성누리장학생으로 입학한 자가 직전학기 성적 3.50 미만일 경우에는 그 학기에 한하여 장학금을 지급하지 아니함<개정 2017.12.13., 2019.11.6>  마. 장학생이 동점자일 경우, 별도 규정에 의하여 장학생을 선발함  바. 전체 장학금 중 희망나눔장학금, 덕성봉사장학금, 덕성가족장학금은 입학 후 관련서류를 심의하여 지급함  사. 장학생 특전 중 글로벌교육원 무료수강은 해당 장학금 지원 횟수와 동일하며, 글로벌교육원 운영 프로그램 중 내부 지정 프로그램에 한함<개정 2017.10.11., 2020.7.1>  아. 덕성글로벌리더, 덕성인재육성, 차미리사, 남해, 덕성누리, 단과대학차석, 성적우수장학금은 최초합격자에 한하여 전형성적의 총점순으로 선발함.<개정 2016.11.9., 2017.12.13., 2019.11.6., 2020.7.1., 2021.11.3.>3. 신입생장학금(약학대학 모집)')]"
      ]
     },
     "execution_count": 4,
     "metadata": {},
     "output_type": "execute_result"
    }
   ],
   "source": [
    "query = '남해장학금 선발기준은?'\n",
    "retriever = database.as_retriever(search_kwargs={'k': 4})\n",
    "retriever.invoke(query)"
   ]
  },
  {
   "cell_type": "code",
   "execution_count": 5,
   "metadata": {},
   "outputs": [],
   "source": [
    "from langchain import hub\n",
    "from langchain_openai import ChatOpenAI\n",
    "\n",
    "prompt = hub.pull(\"rlm/rag-prompt\")\n",
    "llm = ChatOpenAI(model='gpt-4o')"
   ]
  },
  {
   "cell_type": "markdown",
   "metadata": {},
   "source": [
    "### 3. 답변 생성하기\n",
    "(1) RetrievalQA를 통해 LLM에 전달"
   ]
  },
  {
   "cell_type": "code",
   "execution_count": 6,
   "metadata": {},
   "outputs": [
    {
     "data": {
      "text/plain": [
       "{'query': '남해장학금 선발기준은?',\n",
       " 'result': '남해장학금은 각 단과대학별 수석합격자에게 수여됩니다. 수석합격자는 모집인원의 상위 5% 이내에 들어야 합니다.'}"
      ]
     },
     "execution_count": 6,
     "metadata": {},
     "output_type": "execute_result"
    }
   ],
   "source": [
    "from langchain.chains import RetrievalQA\n",
    "\n",
    "qa_chain = RetrievalQA.from_chain_type(\n",
    "    llm, \n",
    "    retriever=retriever,\n",
    "    chain_type_kwargs={\"prompt\": prompt}\n",
    ")\n",
    "\n",
    "ai_message = qa_chain.invoke({\"query\": query})\n",
    "\n",
    "ai_message"
   ]
  }
 ],
 "metadata": {
  "kernelspec": {
   "display_name": "Python 3",
   "language": "python",
   "name": "python3"
  },
  "language_info": {
   "codemirror_mode": {
    "name": "ipython",
    "version": 3
   },
   "file_extension": ".py",
   "mimetype": "text/x-python",
   "name": "python",
   "nbconvert_exporter": "python",
   "pygments_lexer": "ipython3",
   "version": "3.10.16"
  }
 },
 "nbformat": 4,
 "nbformat_minor": 2
}

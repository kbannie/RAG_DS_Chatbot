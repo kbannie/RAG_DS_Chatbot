{
 "cells": [
  {
   "cell_type": "markdown",
   "metadata": {},
   "source": [
    "### 1. 데이터 생성하기\n",
    "(1) ./datasets 아래에 .hwp 파일을 모두 load하기\n",
    "\n",
    "(2) text_splitter로 분할하기\n",
    "\n",
    "(3) all_docs에 모든 chunk들 append하기\n",
    "\n",
    "(4) Pineone Vector database에 업로드하기"
   ]
  },
  {
   "cell_type": "code",
   "execution_count": 29,
   "metadata": {},
   "outputs": [
    {
     "name": "stdout",
     "output_type": "stream",
     "text": [
      "The number of unique and filtered chunks: 2702\n"
     ]
    }
   ],
   "source": [
    "from langchain_text_splitters import RecursiveCharacterTextSplitter\n",
    "from langchain_teddynote.document_loaders.hwp import HWPLoader\n",
    "import os\n",
    "import re\n",
    "\n",
    "document_list = []\n",
    "\n",
    "# text splitter 설정\n",
    "text_splitter = RecursiveCharacterTextSplitter(\n",
    "    chunk_size=512,\n",
    "    chunk_overlap=100,\n",
    ")\n",
    "\n",
    "# 불용어 리스트\n",
    "stopwords = ['은', '는', '이', '가', '을', '를', '에', '의', '도', '에서', '으로']\n",
    "\n",
    "def preprocess_text(text):\n",
    "    text = re.sub(r'[^\\w\\s가-힣]', '', text)  # 한글+영어 외 특수문자 제거\n",
    "    text = re.sub(r'\\s+', ' ', text).strip()  # 중복 공백 제거\n",
    "    text = ' '.join([word for word in text.split() if word not in stopwords])  # 불용어 제거\n",
    "    return text\n",
    "\n",
    "# datasets 폴더를 시작점으로 재귀 순회\n",
    "for root, dirs, files in os.walk(\"./datasets\"):\n",
    "    for file in files:\n",
    "        if file.endswith(\".hwp\"):\n",
    "            file_path = os.path.join(root, file)\n",
    "            loader = HWPLoader(file_path)\n",
    "            docs = loader.load()\n",
    "            for i, doc in enumerate(docs):\n",
    "                doc.page_content = preprocess_text(doc.page_content)\n",
    "                split_docs = text_splitter.split_documents([doc])\n",
    "                #메타 데이터 추가\n",
    "                for idx, split_doc in enumerate(split_docs):\n",
    "                    split_doc.metadata = {\n",
    "                        'file_name': file,\n",
    "                        'file_path': file_path,\n",
    "                        'chunk_id': idx\n",
    "                    }\n",
    "                document_list.extend(split_docs)\n",
    "                \n",
    "# 중복 청크 제거\n",
    "document_list = list({doc.page_content: doc for doc in document_list}.values())\n",
    "\n",
    "# 너무 짧은 청크 제거\n",
    "document_list = [doc for doc in document_list if len(doc.page_content) > 20]\n",
    "\n",
    "print(f\"The number of unique and filtered chunks: {len(document_list)}\")"
   ]
  },
  {
   "cell_type": "code",
   "execution_count": 35,
   "metadata": {},
   "outputs": [
    {
     "data": {
      "text/plain": [
       "'조교인사규정_20171108(20240423)_일부개정.hwp'"
      ]
     },
     "execution_count": 35,
     "metadata": {},
     "output_type": "execute_result"
    }
   ],
   "source": [
    "document_list[6].metadata['file_name']"
   ]
  },
  {
   "cell_type": "code",
   "execution_count": 30,
   "metadata": {},
   "outputs": [],
   "source": [
    "from dotenv import load_dotenv\n",
    "from langchain_openai import OpenAIEmbeddings\n",
    "\n",
    "load_dotenv()\n",
    "\n",
    "embedding = OpenAIEmbeddings(model='text-embedding-3-large')"
   ]
  },
  {
   "cell_type": "code",
   "execution_count": 36,
   "metadata": {},
   "outputs": [],
   "source": [
    "#Pinecone\n",
    "from pinecone import Pinecone\n",
    "from langchain_pinecone import PineconeVectorStore\n",
    "\n",
    "index_name = 'ds-markdown-clean'\n",
    "pinecone_api_key = os.environ.get(\"PINECONE_API_KEY\")\n",
    "pc = Pinecone(api_key=pinecone_api_key)\n",
    "\n",
    "database = PineconeVectorStore.from_documents(document_list, embedding, index_name=index_name)"
   ]
  },
  {
   "cell_type": "code",
   "execution_count": 11,
   "metadata": {},
   "outputs": [],
   "source": [
    "#Chroma\n",
    "# from langchain_chroma import Chroma\n",
    "\n",
    "# database=Chroma.from_documents(documents=document_list, embedding=embedding, collection_name='chroma-tax', persist_directory=\"./chroma\")\n",
    "\n",
    "#database=Chroma(collection_name='chroma-tax', persist_directory=\"./chroma\", embedding_function=embedding) #이미 만들어 놓은 데베 사용"
   ]
  },
  {
   "cell_type": "markdown",
   "metadata": {},
   "source": [
    "### 2. 답변 생성을 위한 Retrieval 및 Prompt 활용하기\n",
    "(1) RetrievalQA에 전달하기 위해 retriever 생성\n",
    "\n",
    "(2) LangChain에서 제공하는 rlm/rag-prompt 사용"
   ]
  },
  {
   "cell_type": "code",
   "execution_count": 37,
   "metadata": {},
   "outputs": [
    {
     "data": {
      "text/plain": [
       "[Document(id='16edfc02-3fea-4780-8f99-ed1d46385952', metadata={'chunk_id': 7.0, 'file_name': '외국대학과의 복수학위제 운영 규정(20240403)_일부개정.hwp', 'file_path': './datasets/3편 학사행정/4장 교학행정/외국대학과의 복수학위제 운영 규정(20240403)_일부개정.hwp'}, page_content='규정은 2022년 7월 1일부터 시행한다부 칙2024 4 31 시행일 개정 규정은 2024년 4월 3일부터 시행한다별표 1 복수학위생 최대 학점인정 범위 신설 2021 2 24 개정 2024431 본교 복수학위생의 최대 학점인정 범위22 입학년도이수구분 20172018학년도2019학년도전공복수전공22학점심화전공31학점부전공15학점연계전공18학점총 학점65학점 입학년도이수구분 2020학년도2021학년도 이후전공제1전공 제2전공18학점심화전공31학점총 학점65학점2 본교 복수학위생의 최대 학점인정 범위31 입학년도이수구분 20172018학년도2019학년도전공복수전공33학점심화전공47학점부전공22학점연계전공27학점총 학점97학점 입학년도이수구분 2020학년도2021학년도 이후전공제1전공 제2전공27학점디지털소프트웨어공학부 33학점심화전공47학점총 학점97학점3 외국대학 복수학위생의 최대 학점인정 범위22 입학년도이수구분 20172018학년도2019학년도교양32학점34학점전공복수전공23학점심화전공31학점총'),\n",
       " Document(id='52df48b6-007f-47bc-8c33-6c5ea655fa60', metadata={'chunk_id': 3.0, 'file_name': '전공모듈형과정운영규정(20250124)_신규제정.hwp', 'file_path': './datasets/3편 학사행정/4장 교학행정/전공모듈형과정운영규정(20250124)_신규제정.hwp'}, page_content='과정의 이수를 판단하는 이수기준은 다음의 각 호에 따른다 1 전공나노Nano디그리 전공별 과정에 속한 교과목들 중에서 9학점 이상 취득 2 전공마이크로Micro디그리 전공별 과정에 속한 교과목들 중에서 15학점 이상 취득③ 전공모듈형과정의 이수기준을 충족하여 이수를 인정받고자 하는 학생은 소정 기간 내에 해당 개별 과정에 대한 이수 확인 신청을 완료하여야 한다④ 동일한 전공별 과정에서 전공마이크로Micro디그리와 전공나노Nano디그리는 동시에 인정받을 수 없으며 이수 확인 신청을 통해 학생이 선택하여야 한다⑤ 전공모듈형과정에서 취득한 학점의 이수구분은 일반선택으로 인정한다 제6조이수 중단의 사후 처리 ① 전공모듈형과정에 포함된 교과목을 수강한 학생들 중에서 다음 각 호의 사항에 해당하는 경우는 이수가 중단된 것으로 본다1 졸업사정 또는 개별 과정의 운영 종료 전까지 제5조의 이수요건을 충족하지 못한 경우2 제5조의 이수요건을 충족하였으나 졸업사정 전까지 이수 확인 신청을 하지 않은 경우② 이수가 중단된'),\n",
       " Document(id='ff6602df-5ceb-405f-9091-008ec2793afe', metadata={'chunk_id': 59.0, 'file_name': '덕성여자대학교학칙(20240625)_일부개정.hwp', 'file_path': './datasets/2편 학칙/덕성여자대학교학칙(20240625)_일부개정.hwp'}, page_content='그 소속을 공과대학 IT미디어공학과로 변경한다5 컴퓨터학과 명칭 및 소속 변경에 따른 경과조치 개정 학칙 시행일 전 입학한 정보미디어대학 컴퓨터학과 재적생 및 2018학년도 공과대학 컴퓨터학과 입학생은 2019년 3월 1일자로 그 소속을 공과대학 컴퓨터공학과로 변경한다부 칙20184231 시행일 개정 학칙은 2018년 4월 23일부터 시행한다2 교육조직 학위수여 적용례 제3조 개정 규정의 공과대학은 2018학년도부터 적용하며 정보미디어대학은 단과대학내 컴퓨터학과의 재적생이 있는 기간2018학년도까지 존속하고 해당 기간 컴퓨터학과의 학위는 개정 전 학칙별표 2에 의거 수여한다3 학부 학과 입학정원 적용례 제4조 제1항 별표 1의 개정 사항은 2019학년도 입학생부터 적용한다 부 칙20191241 시행일 개정 학칙은 2019년 1월 24일부터 시행한다 다만 제52조의 개정 규정은 2019년 3월 1일부터 시행한다2 재학연한에 관한 적용례 제5조제2항부터 제6항까지의 개정 규정은 2014학년도 입학자부터'),\n",
       " Document(id='d6c06eca-2225-49ba-a5d7-42e30e8daee2', metadata={'chunk_id': 12.0, 'file_name': '덕성여자대학교학칙시행세칙(20250124)_일부개정.hwp', 'file_path': './datasets/2편 학칙/덕성여자대학교학칙시행세칙(20250124)_일부개정.hwp'}, page_content='20101214 20161214제12조의2모듈형과정 ① 모듈형과정의 이수 확인을 받으려는 학생은 마이크로Micro디그리 또는 나노Nano디그리 과정을 이수하여야 한다개정 20221012 2025124② 모듈형과정에서 이수한 학점은 졸업에 필요한 학점 수에 산입한다③ 모듈형과정은 미래인재대학에서 운영하는 모듈형 교과목으로 구성된 과정과 개별 전공학과학부에서 운영하는 전공 교과목으로 구성된 과정으로 구분하여 운영할 수 있다 신설 2025124④ 모듈형과정의 운영 및 이수에 대해서는 따로 정한다 개정 2025124본조신설 2019124제 5 장 시험과 성적제13조시험 시험은 학칙 제42조에 따라 정기적으로 실시하고 교과목별로 필요에 따라 학기 중에도 시험을 수시로 행할 수 있다개정 201668제14조추가시험 ① 부득이한 사유로 응시하지 못한 학생은 해당시험 종료 1주일 이내에 사유서를 첨부하여 추가시험 응시원서를 교무과에 제출하여야 한다② 추가시험의 응시원서에는 진단서 등 관련 증빙서 자료가 첨부되어야')]"
      ]
     },
     "execution_count": 37,
     "metadata": {},
     "output_type": "execute_result"
    }
   ],
   "source": [
    "query = '컴퓨터공학전공은 심화 이수하기 위해서는 졸업조건이 무엇인가요?'\n",
    "retriever = database.as_retriever(search_kwargs={'k': 4})\n",
    "retriever.invoke(query)"
   ]
  },
  {
   "cell_type": "code",
   "execution_count": 38,
   "metadata": {},
   "outputs": [
    {
     "data": {
      "text/plain": [
       "[Document(id='ff6602df-5ceb-405f-9091-008ec2793afe', metadata={'chunk_id': 59.0, 'file_name': '덕성여자대학교학칙(20240625)_일부개정.hwp', 'file_path': './datasets/2편 학칙/덕성여자대학교학칙(20240625)_일부개정.hwp'}, page_content='그 소속을 공과대학 IT미디어공학과로 변경한다5 컴퓨터학과 명칭 및 소속 변경에 따른 경과조치 개정 학칙 시행일 전 입학한 정보미디어대학 컴퓨터학과 재적생 및 2018학년도 공과대학 컴퓨터학과 입학생은 2019년 3월 1일자로 그 소속을 공과대학 컴퓨터공학과로 변경한다부 칙20184231 시행일 개정 학칙은 2018년 4월 23일부터 시행한다2 교육조직 학위수여 적용례 제3조 개정 규정의 공과대학은 2018학년도부터 적용하며 정보미디어대학은 단과대학내 컴퓨터학과의 재적생이 있는 기간2018학년도까지 존속하고 해당 기간 컴퓨터학과의 학위는 개정 전 학칙별표 2에 의거 수여한다3 학부 학과 입학정원 적용례 제4조 제1항 별표 1의 개정 사항은 2019학년도 입학생부터 적용한다 부 칙20191241 시행일 개정 학칙은 2019년 1월 24일부터 시행한다 다만 제52조의 개정 규정은 2019년 3월 1일부터 시행한다2 재학연한에 관한 적용례 제5조제2항부터 제6항까지의 개정 규정은 2014학년도 입학자부터'),\n",
       " Document(id='16edfc02-3fea-4780-8f99-ed1d46385952', metadata={'chunk_id': 7.0, 'file_name': '외국대학과의 복수학위제 운영 규정(20240403)_일부개정.hwp', 'file_path': './datasets/3편 학사행정/4장 교학행정/외국대학과의 복수학위제 운영 규정(20240403)_일부개정.hwp'}, page_content='규정은 2022년 7월 1일부터 시행한다부 칙2024 4 31 시행일 개정 규정은 2024년 4월 3일부터 시행한다별표 1 복수학위생 최대 학점인정 범위 신설 2021 2 24 개정 2024431 본교 복수학위생의 최대 학점인정 범위22 입학년도이수구분 20172018학년도2019학년도전공복수전공22학점심화전공31학점부전공15학점연계전공18학점총 학점65학점 입학년도이수구분 2020학년도2021학년도 이후전공제1전공 제2전공18학점심화전공31학점총 학점65학점2 본교 복수학위생의 최대 학점인정 범위31 입학년도이수구분 20172018학년도2019학년도전공복수전공33학점심화전공47학점부전공22학점연계전공27학점총 학점97학점 입학년도이수구분 2020학년도2021학년도 이후전공제1전공 제2전공27학점디지털소프트웨어공학부 33학점심화전공47학점총 학점97학점3 외국대학 복수학위생의 최대 학점인정 범위22 입학년도이수구분 20172018학년도2019학년도교양32학점34학점전공복수전공23학점심화전공31학점총'),\n",
       " Document(id='0fd94438-7f5a-4042-aaa7-66d602de1550', metadata={'chunk_id': 48.0, 'file_name': '덕성여자대학교학칙시행세칙(20250124)_일부개정.hwp', 'file_path': './datasets/2편 학칙/덕성여자대학교학칙시행세칙(20250124)_일부개정.hwp'}, page_content='2024학년도2025학년도2026학년도 이후글로벌융합대학국어국문학전공35353527일어일문학전공37373728중어중문학전공46464630영어영문학전공42424231불어불문학전공181818독어독문학전공181818스페인어전공17171716사학전공18181816철학전공18181816미술사학전공25252519문화인류학전공19191916경영학전공40404030회계학전공39393930국제통상학전공41414130법학전공26262620사회학전공18181816문헌정보학전공30303023심리학전공48484835아동가족학전공20202016사회복지학전공31313124정치외교학전공30303023의상디자인전공39393930과학기술대학컴퓨터공학전공41IT미디어공학전공41사이버보안전공30소프트웨어전공30디지털소프트웨어공학부14211484바이오공학전공32323223수학전공36363626정보통계학전공36363626화학전공36363626식품영양학전공58585843생활체육학전공252525Art'),\n",
       " Document(id='eaa74a6f-a088-4934-8177-2f5ce541753b', metadata={'chunk_id': 4.0, 'file_name': '특수대학원 외국인특별과정운영규정(20220112)_일부개정.hwp', 'file_path': './datasets/3편 학사행정/4장 교학행정/특수대학원 외국인특별과정운영규정(20220112)_일부개정.hwp'}, page_content='및 수업재학연한 ① 특별과정은 비논문 학위과정으로 전공과목 24학점 이상과 논문 대체 추가 전공학점 3학점 등 27학점으로 구성된다② 수업연한은 5학기2년 6개월로 하되 재학연한은 8학기를 초과할 수 없다제9조외국어시험 특별과정 이수 중에 있는 자는 졸업시험 전까지 외국어시험에 합격하여야 한다 다만 다음 각 호에 해당하는 자는 외국어시험을 면제 받을 수 있다1 최근 2년 이내 TOEFL 530CBT 197 iBT 71 IELTS 55 CEFR B2 TEPS 600점NEW TEPS 326점 TOPIK 4급 이상을 취득한 자 단 영어가 모국어인 외국인학생은 TOPIK만 선택 가능2 본교 또는 본교 글로벌교육원에서 개설하는 영어 또는 한국어 강좌 1과목 이상을 이수한 자 단 영어가 모국어인 외국인학생은 한국어 강좌만 선택 가능제10조졸업시험 졸업시험 과목은 각 전공에서 지정한 3과목으로 한다 제11조장학금 ① 첫 학기 수업료의 30퍼센트는 장학금으로 지급하며 두 번째 학기부터는 직전학기의 평균평점에 따라')]"
      ]
     },
     "execution_count": 38,
     "metadata": {},
     "output_type": "execute_result"
    }
   ],
   "source": [
    "query = '본교에서 컴퓨터공학전공은 심화 이수하기 위해서는 졸업조건이 무엇인가요?'\n",
    "retriever = database.as_retriever(search_kwargs={'k': 4})\n",
    "retriever.invoke(query)"
   ]
  },
  {
   "cell_type": "code",
   "execution_count": 39,
   "metadata": {},
   "outputs": [],
   "source": [
    "from langchain import hub\n",
    "from langchain_openai import ChatOpenAI\n",
    "\n",
    "prompt = hub.pull(\"rlm/rag-prompt\")\n",
    "llm = ChatOpenAI(model='gpt-4o')"
   ]
  },
  {
   "cell_type": "markdown",
   "metadata": {},
   "source": [
    "### 3. 답변 생성하기\n",
    "(1) RetrievalQA를 통해 LLM에 전달"
   ]
  },
  {
   "cell_type": "code",
   "execution_count": 40,
   "metadata": {},
   "outputs": [
    {
     "data": {
      "text/plain": [
       "{'query': '본교에서 컴퓨터공학전공은 심화 이수하기 위해서는 졸업조건이 무엇인가요?',\n",
       " 'result': '본교에서 컴퓨터공학전공을 심화 이수하기 위해서는 47학점을 이수해야 합니다.'}"
      ]
     },
     "execution_count": 40,
     "metadata": {},
     "output_type": "execute_result"
    }
   ],
   "source": [
    "from langchain.chains import RetrievalQA\n",
    "\n",
    "qa_chain = RetrievalQA.from_chain_type(\n",
    "    llm, \n",
    "    retriever=retriever,\n",
    "    chain_type_kwargs={\"prompt\": prompt}\n",
    ")\n",
    "\n",
    "ai_message = qa_chain.invoke({\"query\": query})\n",
    "\n",
    "ai_message"
   ]
  }
 ],
 "metadata": {
  "kernelspec": {
   "display_name": "Python 3",
   "language": "python",
   "name": "python3"
  },
  "language_info": {
   "codemirror_mode": {
    "name": "ipython",
    "version": 3
   },
   "file_extension": ".py",
   "mimetype": "text/x-python",
   "name": "python",
   "nbconvert_exporter": "python",
   "pygments_lexer": "ipython3",
   "version": "3.10.16"
  }
 },
 "nbformat": 4,
 "nbformat_minor": 2
}

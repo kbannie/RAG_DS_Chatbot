{
 "cells": [
  {
   "cell_type": "markdown",
   "metadata": {},
   "source": [
    "### 1. 데이터 생성하기\n",
    "(1) ./datasets 아래에 .hwp 파일을 모두 load하기\n",
    "\n",
    "(2) text_splitter로 분할하기\n",
    "\n",
    "(3) all_docs에 모든 chunk들 append하기\n",
    "\n",
    "(4) Pineone Vector database에 업로드하기"
   ]
  },
  {
   "cell_type": "code",
   "execution_count": 20,
   "metadata": {},
   "outputs": [
    {
     "name": "stdout",
     "output_type": "stream",
     "text": [
      "The number of Splitted Chunks: 2332\n"
     ]
    }
   ],
   "source": [
    "from langchain_text_splitters import RecursiveCharacterTextSplitter\n",
    "from langchain_teddynote.document_loaders.hwp import HWPLoader\n",
    "import os\n",
    "\n",
    "document_list = []\n",
    "\n",
    "# text splitter 설정\n",
    "text_splitter = RecursiveCharacterTextSplitter(\n",
    "    chunk_size=650,\n",
    "    chunk_overlap=100,\n",
    ")\n",
    "\n",
    "# datasets 폴더를 시작점으로 하위 폴더까지 재귀적으로 순회\n",
    "for root, dirs, files in os.walk(\"./datasets\"):\n",
    "    for file in files:\n",
    "        if file.endswith(\".hwp\"):\n",
    "            file_path = os.path.join(root, file)\n",
    "            loader = HWPLoader(file_path)\n",
    "            # 1) 문서 로드\n",
    "            docs = loader.load()\n",
    "            # 2) 텍스트 스플리터로 분할\n",
    "            split_docs = text_splitter.split_documents(docs)\n",
    "            document_list.extend(split_docs)\n",
    "\n",
    "print(f\"The number of Splitted Chunks: {len(document_list)}\")"
   ]
  },
  {
   "cell_type": "code",
   "execution_count": 21,
   "metadata": {},
   "outputs": [],
   "source": [
    "from dotenv import load_dotenv\n",
    "from langchain_openai import OpenAIEmbeddings\n",
    "\n",
    "load_dotenv()\n",
    "\n",
    "embedding = OpenAIEmbeddings(model='text-embedding-3-large')"
   ]
  },
  {
   "cell_type": "code",
   "execution_count": 22,
   "metadata": {},
   "outputs": [],
   "source": [
    "from pinecone import Pinecone\n",
    "from langchain_pinecone import PineconeVectorStore\n",
    "\n",
    "index_name = 'ds-chatbot'\n",
    "pinecone_api_key = os.environ.get(\"PINECONE_API_KEY\")\n",
    "pc = Pinecone(api_key=pinecone_api_key)\n",
    "\n",
    "database = PineconeVectorStore.from_documents(document_list, embedding, index_name=index_name)"
   ]
  },
  {
   "cell_type": "markdown",
   "metadata": {},
   "source": [
    "### 2. 답변 생성을 위한 Retrieval 및 Prompt 활용하기\n",
    "(1) RetrievalQA에 전달하기 위해 retriever 생성\n",
    "\n",
    "(2) LangChain에서 제공하는 rlm/rag-prompt 사용"
   ]
  },
  {
   "cell_type": "code",
   "execution_count": 25,
   "metadata": {},
   "outputs": [
    {
     "data": {
      "text/plain": [
       "[Document(id='4b0733f7-c6d3-4e57-8468-d901645d682a', metadata={'source': './datasets/3편 학사행정/4장 교학행정/4. 대학원(특수)장학금지급에관한내규(20230710)_일부개정.hwp'}, page_content='[별표1] 장학금 지급기준 및 금액 <신설 2017.6.14., 개정 2019.10.2., 2020.7.1., 2021.4.14., 2022.1.12., 2022.9.27., 2023.7.10.>구분장학금 명칭지급기준장학금액비고교육대학원 및상담‧산업대학원현직교원우대장학금- 교육대학원(영양교육전공제외), 상담․산업대학원 · 유치원, 초․중․고등학교에 재직 중이거나 어린이집에 재직 중인 교사- 영양교육전공· 유치원, 초․중․고등학교에 재직 중이거나 어린이집에 재직 중인 교사 및 영양사수업료의\\xa015%교육대학원 및 상담‧산업대학원성적우수장학금- 재학생 5명 이상   전공직전학기 성적 최우수인 자 수업료의 20%직전학기 성적 상위 10% 이내로서 최우수자를 제외한 자수업료의 15%- 재학생 5명 미만   전공직전학기 성적 최우수인 자수업료의 15%교육대학원 및상담‧산업대학원덕성동문장학금- 학부 졸업 후 1년 이내 진학자수업료의 50%·2학기 지급·입학금 제외교육대학원및상담‧산업대학원원우회장학금- 각 전공별 원우회장300,000원교육대학원및상담‧산업대학원교외장학금- 정부 또는 지방자치단체에서 지급하는 장학금- 사회단체, 기업체, 개인이 지급하는 장학금지정금액상담‧산업대학원교류협력기관장학금- 교외기관과의 교류협력체결에 따라 협력기관에서 추천한 자수업료의'),\n",
       " Document(id='88eac6a1-29d4-4a57-a03f-71eecab8b7c8', metadata={'source': './datasets/3편 학사행정/4장 교학행정/장학금규정시행세칙(20241113)_일부개정.hwp'}, page_content=\"2023.4.5., 2024.5.8., 2024.11.13.>  가. 8학기 이내 재학생 장학금    ① 등록금성 장학금 : 등록금 납부액 한도 내 수혜 가능      - 성적 장학금명칭선발기준 (성적은 직전 학기 평점평균임)지급액비고전공(학과) 수석각 전공(학과)별 성적이 수석인 학생 (전공 1과목 이상 이수, 성적 3.5 이상) 수업료 전액전공(학과) 차석각 전공(학과)별 성적이 차석인 학생 수업료 70%단과대학우수각 단과대학별 성적이 상위 5% 이내(전공 미정인 1학년에 한함)수업료 50%우수각 전공(학과)별 성적이 상위 20% 이내수업료 30%※ 전공 미정인 1학년의 경우, ‘전공(학과)수석’, ‘전공(학과)차석' 대신 각 단과대학별로 ‘단과대학수석', ‘단과대학차석' 장학생을 선발하며 우수장학금은 각 단과대학별 성적이 상위 20% 이내 학생을 선발함      - 가계곤란 장학금명칭선발기준 (성적은 직전 학기 평점평균임)지급액비고덕성인재장려가정형편이 곤란한 학생 (성적 2.0 이상) 일정액덕성사랑가정형편이 곤란한 학생 (성적 2.0 이상)희망나눔신입생으로 가정형편이 곤란한 학생       - 기타 장학금명칭선발기준 (성적은 직전 학기 평점평균임)지급액비고보훈국가보훈자녀 또는 광주민주유공자자녀로 대학수업료 등 면제대상증명서 제출자와\"),\n",
       " Document(id='c72ddc23-1ee2-470f-be0b-be84ebf5106c', metadata={'source': './datasets/3편 학사행정/4장 교학행정/장학금규정시행세칙(20241113)_일부개정.hwp'}, page_content='주관하는 해외취업연수과정을 이수하고 해외취업(인턴)이 확정된 학생일정액  ※ 인턴십 장학금의 경우, 휴학생 수혜 가능5. 편입생장학금(교내) <신설 2020.12.4., 개정 2021.11.3., 2022.6.8., 2022.9.7., 2023.6.7., 2024.1.8.>가. 외국인 전형 편입생 장학금 <신설 2021.11.3., 개정 2022.6.8., 2022.9.7., 2023.6.7., 2024.1.8.>명칭선 발 기 준장 학 금 액지구촌외국인장려편입생장학금편입전형으로 편입학한 학생 중, 부모 모두가 외국인인 외국인 학생이며, 한국어능력시험(TOPIK) 3급 이상 취득 또는 본교 입학 기준을 충족한 자1. 신입생(1학기)                                             공통: 본교 기숙사비 50% 감면(1년). 단, 본교 주관 한국어TOPIK성적장학금액5급 이상수업료의 100%4급수업료의 70%3급수업료의 30%본교 글로벌교육원 이수자수업료의 50%본교 주관한국어 관련 대회대상 수상자수업료의 50% 관련 대회 대상 수상자는 감면 제외2. 재학생(2학기~4학기)직전학기 평점장학금액4.0 이상수업료의 70%3.5 이상수업료의 50%3.0 이상수업료의 30%덕성글로벌파트너십편입생장학금외국인 특별전형에 편입학한'),\n",
       " Document(id='8f5ffcbb-5075-40c9-a03b-c87db6c93baf', metadata={'source': './datasets/3편 학사행정/4장 교학행정/3. 대학원(일반)장학금지급에관한내규(20230710)_일부개정.hwp'}, page_content='[별표 1] 장학금 지급기준 및 금액 <신설 2017.12.13., 개정 2020.9.25., 2022.1.12., 2023.5.4., 2023.7.10.>구분장학금 명칭지급기준장학금액비고신입생장학금덕성우수장학금본교 학부 성적 3.75(평점 4.5만점) 이상으로 석사학위과정 또는 석·박사학위통합과정에 입학한 자입학시에 한하여 입학금을 제외한 등록금 전액- 입학사정회 심의를 거쳐 선발중복 수혜 불가정원 내 학생에 한해 선발신입생우수장학금신입생 합격자 중 입학성적이 우수한 자(합격자 중 학과별 전형 내 50%)입학시에 한하여 입학금을 제외한 등록금의 50%신입생특별장학금공무원재직자(군위탁 포함)이거나 총장이 인정하는 기관 재직자입학시에 한하여 입학금을 제외한 등록금의 50%재학생장학금일반장학금재학생 중 직전학기 학업성적이 3.5점(4.5점 만점) 이상인 자 중 학과의 추천을 받은 자수업료의 30%면학장학금학비조달이 어려운 가계곤란 재학생 중 학과의 추천을 받은 자수업료의 30%근로봉사장학금가정형편이 어렵고 성적이 우수한 재학생 중 소속 학과의 추천을 받아 대학원 학과 사무실, 실험실습실 등에서 일정시간 연구, 실험실습 및 행정 보조 업무를 담당한 자근무시간에 상응하는 금액외국인장학금자매대특별장학금우리 대학과 자매결연을 맺은 외국대학에서 총장 추천을')]"
      ]
     },
     "execution_count": 25,
     "metadata": {},
     "output_type": "execute_result"
    }
   ],
   "source": [
    "query = '\b장학금은 무엇이 있나요?'\n",
    "retriever = database.as_retriever(search_kwargs={'k': 4})\n",
    "retriever.invoke(query)"
   ]
  },
  {
   "cell_type": "code",
   "execution_count": 26,
   "metadata": {},
   "outputs": [],
   "source": [
    "from langchain import hub\n",
    "from langchain_openai import ChatOpenAI\n",
    "\n",
    "prompt = hub.pull(\"rlm/rag-prompt\")\n",
    "llm = ChatOpenAI(model='gpt-4o')"
   ]
  },
  {
   "cell_type": "markdown",
   "metadata": {},
   "source": [
    "### 3. 답변 생성하기\n",
    "(1) RetrievalQA를 통해 LLM에 전달"
   ]
  },
  {
   "cell_type": "code",
   "execution_count": 27,
   "metadata": {},
   "outputs": [
    {
     "data": {
      "text/plain": [
       "{'query': '\\x08장학금은 무엇이 있나요?',\n",
       " 'result': '장학금은 다양한 기준에 따라 여러 종류가 있습니다. 예를 들어, 성적 우수 장학금, 가정형편이 곤란한 학생을 위한 가계곤란 장학금, 그리고 외국인 학생을 위한 장학금 등이 있습니다. 각각의 장학금은 지급 기준과 금액이 다르며, 성적, 재직 여부, 한국어 능력 등을 기준으로 선정됩니다.'}"
      ]
     },
     "execution_count": 27,
     "metadata": {},
     "output_type": "execute_result"
    }
   ],
   "source": [
    "from langchain.chains import RetrievalQA\n",
    "\n",
    "qa_chain = RetrievalQA.from_chain_type(\n",
    "    llm, \n",
    "    retriever=retriever,\n",
    "    chain_type_kwargs={\"prompt\": prompt}\n",
    ")\n",
    "\n",
    "ai_message = qa_chain.invoke({\"query\": query})\n",
    "\n",
    "ai_message"
   ]
  }
 ],
 "metadata": {
  "kernelspec": {
   "display_name": "Python 3",
   "language": "python",
   "name": "python3"
  },
  "language_info": {
   "codemirror_mode": {
    "name": "ipython",
    "version": 3
   },
   "file_extension": ".py",
   "mimetype": "text/x-python",
   "name": "python",
   "nbconvert_exporter": "python",
   "pygments_lexer": "ipython3",
   "version": "3.10.16"
  }
 },
 "nbformat": 4,
 "nbformat_minor": 2
}
